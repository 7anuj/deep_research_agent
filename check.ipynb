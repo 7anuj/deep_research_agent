{
 "cells": [
  {
   "cell_type": "code",
   "execution_count": 29,
   "id": "bd9982eb",
   "metadata": {},
   "outputs": [],
   "source": [
    "import streamlit as st\n",
    "from langchain_community.llms import Ollama\n",
    "from retriever import load_hybrid_retriever\n",
    "from langchain_community.document_loaders import PyPDFLoader\n",
    "from langchain.text_splitter import RecursiveCharacterTextSplitter\n",
    "from langchain_community.vectorstores import FAISS\n",
    "from langchain_community.embeddings import HuggingFaceEmbeddings\n",
    "from langchain.prompts import PromptTemplate\n",
    "from langchain.chains import RetrievalQA\n",
    "from dotenv import load_dotenv"
   ]
  },
  {
   "cell_type": "code",
   "execution_count": 30,
   "id": "6746dfbf",
   "metadata": {},
   "outputs": [],
   "source": [
    "load_dotenv()  # take environment variables from .env file\n",
    "# llm = Ollama(model=\"llama3\", base_url=\"http://localhost:11434\")\n",
    "from langchain_community.llms import HuggingFaceHub\n",
    "import os\n",
    "\n",
    "# Make sure to set this in Hugging Face Spaces Secrets\n",
    "hf_token = os.getenv(\"HUGGINGFACEHUB_API_TOKEN\")\n",
    "\n",
    "from langchain_huggingface import HuggingFaceEndpoint\n",
    "\n",
    "llm = HuggingFaceEndpoint(\n",
    "    repo_id=\"meta-llama/Llama-3.1-8B\",  # You can swap with another model\n",
    "    huggingfacehub_api_token=hf_token,\n",
    "    temperature=0.3,\n",
    "    max_new_tokens=512\n",
    ")\n",
    "\n",
    "\n",
    "# Load prebuilt retriever\n",
    "retriever = load_hybrid_retriever()\n",
    "\n",
    "# Prompt\n",
    "prompt = PromptTemplate(\n",
    "    input_variables=[\"context\", \"question\"],\n",
    "    template=\"\"\"\n",
    "You are a legal AI assistant. Use the given context from IPC/Constitution to answer the question.\n",
    "If the answer is not in the context, say you don't know.\n",
    "\n",
    "Context:\n",
    "{context}\n",
    "\n",
    "Question:\n",
    "{question}\n",
    "\n",
    "Answer concisely, but accurately in legal terms.\n",
    "\"\"\"\n",
    ")\n",
    "\n",
    "qa_chain = RetrievalQA.from_chain_type(\n",
    "    llm=llm,\n",
    "    retriever=retriever,\n",
    "    chain_type_kwargs={\"prompt\": prompt}\n",
    ")"
   ]
  },
  {
   "cell_type": "code",
   "execution_count": 31,
   "id": "80799918",
   "metadata": {},
   "outputs": [],
   "source": [
    "query = \"what is the punishment for murder under IPC?\""
   ]
  },
  {
   "cell_type": "code",
   "execution_count": 32,
   "id": "1f09c3f0",
   "metadata": {},
   "outputs": [],
   "source": [
    "result = qa_chain({\"query\": query})"
   ]
  },
  {
   "cell_type": "code",
   "execution_count": 33,
   "id": "336e8c97",
   "metadata": {},
   "outputs": [
    {
     "data": {
      "text/plain": [
       "{'query': 'what is the punishment for murder under IPC?', 'result': ''}"
      ]
     },
     "execution_count": 33,
     "metadata": {},
     "output_type": "execute_result"
    }
   ],
   "source": [
    "result"
   ]
  },
  {
   "cell_type": "code",
   "execution_count": 34,
   "id": "8b7408d8",
   "metadata": {},
   "outputs": [],
   "source": [
    "for doc in result.get(\"source_documents\", []):\n",
    "        st.write(f\"- {doc.metadata.get('source', 'Unknown')}\")"
   ]
  },
  {
   "cell_type": "code",
   "execution_count": null,
   "id": "fffdd9fe",
   "metadata": {},
   "outputs": [],
   "source": []
  }
 ],
 "metadata": {
  "kernelspec": {
   "display_name": "codemate_env",
   "language": "python",
   "name": "python3"
  },
  "language_info": {
   "codemirror_mode": {
    "name": "ipython",
    "version": 3
   },
   "file_extension": ".py",
   "mimetype": "text/x-python",
   "name": "python",
   "nbconvert_exporter": "python",
   "pygments_lexer": "ipython3",
   "version": "3.10.18"
  }
 },
 "nbformat": 4,
 "nbformat_minor": 5
}
