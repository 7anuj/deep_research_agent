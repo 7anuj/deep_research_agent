{
 "cells": [
  {
   "cell_type": "code",
   "execution_count": 10,
   "id": "bd9982eb",
   "metadata": {},
   "outputs": [],
   "source": [
    "import streamlit as st\n",
    "from langchain_community.llms import Ollama\n",
    "from src.retriever import load_hybrid_retriever\n",
    "from langchain_community.document_loaders import PyPDFLoader\n",
    "from langchain.text_splitter import RecursiveCharacterTextSplitter\n",
    "from langchain_community.vectorstores import FAISS\n",
    "from langchain_community.embeddings import HuggingFaceEmbeddings\n",
    "from langchain.prompts import PromptTemplate\n",
    "from langchain.chains import RetrievalQA\n",
    "from dotenv import load_dotenv"
   ]
  },
  {
   "cell_type": "code",
   "execution_count": 21,
   "id": "6746dfbf",
   "metadata": {},
   "outputs": [],
   "source": [
    "load_dotenv()  # take environment variables from .env file\n",
    "# llm = Ollama(model=\"llama3\", base_url=\"http://localhost:11434\")\n",
    "from langchain_community.llms import HuggingFaceHub\n",
    "import os\n",
    "\n",
    "import os\n",
    "from langchain_google_genai import ChatGoogleGenerativeAI\n",
    "\n",
    "llm = ChatGoogleGenerativeAI(\n",
    "    model=\"gemini-1.5-flash-latest\",\n",
    "    api_key=os.environ[\"GOOGLE_API_KEY\"]\n",
    ")\n",
    "\n",
    "\n",
    "#  Make sure to set this in Hugging Face Spaces Secrets\n",
    "# hf_token = os.getenv(\"HUGGINGFACEHUB_API_TOKEN\")\n",
    "\n",
    "# from langchain_huggingface import HuggingFaceEndpoint\n",
    "\n",
    "# llm = HuggingFaceEndpoint(\n",
    "#     repo_id=\"meta-llama/Llama-3.1-8B\",  # You can swap with another model\n",
    "#     huggingfacehub_api_token=hf_token,\n",
    "#     temperature=0.3,\n",
    "#     max_new_tokens=1500\n",
    "# )\n",
    "\n",
    "\n",
    "# Load prebuilt retriever\n",
    "retriever = load_hybrid_retriever()\n",
    "\n",
    "# Prompt\n",
    "prompt = PromptTemplate(\n",
    "    input_variables=[\"context\", \"question\"],\n",
    "    template=\"\"\"\n",
    "You are a legal AI assistant. Use the given context from IPC/Constitution to answer the question.\n",
    "If the answer is not in the context, say you don't know.\n",
    "\n",
    "Context:\n",
    "{context}\n",
    "\n",
    "Question:\n",
    "{question}\n",
    "\n",
    "Answer concisely, but accurately in legal terms.\n",
    "\"\"\"\n",
    ")\n",
    "\n",
    "qa_chain = RetrievalQA.from_chain_type(\n",
    "    llm=llm,\n",
    "    retriever=retriever,\n",
    "    chain_type_kwargs={\"prompt\": prompt}\n",
    ")\n"
   ]
  },
  {
   "cell_type": "code",
   "execution_count": 22,
   "id": "fe4e153c",
   "metadata": {},
   "outputs": [
    {
     "name": "stdout",
     "output_type": "stream",
     "text": [
      "[Document(id='13d05b61-9c2b-418a-b05e-6f32c3387f13', metadata={'producer': 'Microsoft® Office Word 2007', 'creator': 'Microsoft® Office Word 2007', 'creationdate': 'D:20170823054222', 'author': 'Admin', 'moddate': 'D:20170823054222', 'source': 'data\\\\IPC.pdf', 'total_pages': 112, 'page': 71, 'page_label': '72'}, page_content='72 \\n \\n302. Punishment for murder .—Whoever commits murder sha ll be punished with death or \\n1[imprisonment for life], and shall also be liable to fine. \\n303. Punishment for murder by life -convict.—Whoever, being under sentence of 1[imprisonment \\nfor life], commits murder, shall be punished with death. \\n304. Punishment for culpable homi cide not amounting to murder .—Whoever commits culpable \\nhomicide not amounting to murder, shall be punished with 1[imprisonment for life], or imprisonment of'), Document(id='cf9a19dd-c9cc-44c9-a846-e1069031a76d', metadata={'producer': 'Microsoft® Office Word 2007', 'creator': 'Microsoft® Office Word 2007', 'creationdate': 'D:20170823054222', 'author': 'Admin', 'moddate': 'D:20170823054222', 'source': 'data\\\\IPC.pdf', 'total_pages': 112, 'page': 72, 'page_label': '73'}, page_content='be guilty of culpable homicide not amounting to murder. A has committed the offence defined in this section. \\n309. Attempt to commit suicide .—Whoever attempts to commit suicide and does any act towards \\nthe commission of such offence, shall be punished with simple imprisonment for a term which may \\nextend to one year 2[or with fine, or with both.] \\n310. Thug.—Whoever, at any time after the passing of this Act, shall have been habitually associated'), Document(id='edd8125d-bd57-49dd-9b9e-9ac449405b09', metadata={'producer': 'Microsoft® Office Word 2007', 'creator': 'Microsoft® Office Word 2007', 'creationdate': 'D:20170823054222', 'author': 'Admin', 'moddate': 'D:20170823054222', 'source': 'data\\\\IPC.pdf', 'total_pages': 112, 'page': 71, 'page_label': '72'}, page_content='years, and shall also be liable to fine. \\n307. Attempt to murder.—Whoever does any act with such intention or knowledge, and under such \\ncircumstances that, if he by that act caused death, he would be guilty of murder, shall be punished with \\nimprisonment of either descriptio n for a term which may extend to ten years, and sha ll also be liable to \\nfine; and if hurt is caused to any person by such act, the offender shall be liab le either to 1[imprisonment'), Document(id='a836e1a0-812b-4c92-871c-58f965b75a8d', metadata={'producer': 'Microsoft® Office Word 2007', 'creator': 'Microsoft® Office Word 2007', 'creationdate': 'D:20170823054222', 'author': 'Admin', 'moddate': 'D:20170823054222', 'source': 'data\\\\IPC.pdf', 'total_pages': 112, 'page': 71, 'page_label': '72'}, page_content='suicide, whoever abets the commission of such suicide, sh all be punished with death or 1[imprisonment \\nfor life], or imprisonment for a term not exceeding ten years, and shall also be liable to fine. \\n306. Abetment of suicide .—If any person commits suicide, whoever abets the commission of such \\nsuicide, shall be punished with imprisonment of either description for a term which may extend to ten \\nyears, and shall also be liable to fine.'), Document(id='a327f5c6-15f8-4aab-8329-06e28e538f48', metadata={'producer': 'Microsoft® Office Word 2007', 'creator': 'Microsoft® Office Word 2007', 'creationdate': 'D:20170823054222', 'author': 'Admin', 'moddate': 'D:20170823054222', 'source': 'data\\\\IPC.pdf', 'total_pages': 112, 'page': 43, 'page_label': '44'}, page_content='which may extend to two years, and shall also be liable to fine. \\n166B. Punishment for non-treatment of victim.—Whoever, being in charge of a hospital, public or \\nprivate, whether run by the Central Government, the State Government, local bodies or any other person, \\ncontravenes the provisions of section 357C of the Code of Criminal Procedure, 1973 (2 of 1974), shall be \\npunished with imprisonment for a term which may extend to one year or with fine or with both.]')]\n"
     ]
    }
   ],
   "source": [
    "docs = retriever.get_relevant_documents(\"what is the punishment for murder under IPC?\")\n",
    "print(docs)\n"
   ]
  },
  {
   "cell_type": "code",
   "execution_count": 23,
   "id": "80799918",
   "metadata": {},
   "outputs": [],
   "source": [
    "query = \"murder?\""
   ]
  },
  {
   "cell_type": "code",
   "execution_count": 24,
   "id": "1f09c3f0",
   "metadata": {},
   "outputs": [],
   "source": [
    "result = qa_chain({\"query\": query})"
   ]
  },
  {
   "cell_type": "code",
   "execution_count": 25,
   "id": "336e8c97",
   "metadata": {},
   "outputs": [
    {
     "data": {
      "text/plain": [
       "{'query': 'murder?',\n",
       " 'result': 'Section 302 outlines the punishment for murder as death or imprisonment for life, and a fine.  Section 303 addresses murder committed by a life convict, prescribing the death penalty.  Section 304 details the punishment for culpable homicide not amounting to murder as life imprisonment or imprisonment of another term.'}"
      ]
     },
     "execution_count": 25,
     "metadata": {},
     "output_type": "execute_result"
    }
   ],
   "source": [
    "result"
   ]
  },
  {
   "cell_type": "code",
   "execution_count": 26,
   "id": "8b7408d8",
   "metadata": {},
   "outputs": [],
   "source": [
    "for doc in result.get(\"source_documents\", []):\n",
    "        st.write(f\"- {doc.metadata.get('source', 'Unknown')}\")"
   ]
  },
  {
   "cell_type": "code",
   "execution_count": 27,
   "id": "fffdd9fe",
   "metadata": {},
   "outputs": [
    {
     "name": "stdout",
     "output_type": "stream",
     "text": [
      "Answer via RetrievalQA: \n",
      "Direct LLM answer: \n"
     ]
    }
   ],
   "source": [
    "import os\n",
    "from dotenv import load_dotenv\n",
    "from langchain.prompts import PromptTemplate\n",
    "from langchain.chains import RetrievalQA\n",
    "from langchain_huggingface import HuggingFaceEndpoint\n",
    "\n",
    "# Load environment variables\n",
    "load_dotenv()\n",
    "hf_token = os.getenv(\"HUGGINGFACEHUB_API_TOKEN\")\n",
    "\n",
    "# Initialize LLM\n",
    "llm = HuggingFaceEndpoint(\n",
    "    repo_id=\"meta-llama/Llama-3.1-8B\",  # Swap if needed\n",
    "    huggingfacehub_api_token=hf_token,\n",
    "    temperature=0.3,\n",
    "    max_new_tokens=512\n",
    ")\n",
    "\n",
    "# Load retriever (make sure it has your IPC documents indexed)\n",
    "retriever = load_hybrid_retriever()\n",
    "\n",
    "# Define clean prompt\n",
    "prompt = PromptTemplate(\n",
    "    input_variables=[\"context\", \"question\"],\n",
    "    template=\"\"\"\n",
    "You are a legal AI assistant. Use the given context from IPC/Constitution to answer the question.\n",
    "If the answer is not in the context, say you don't know.\n",
    "\n",
    "Context:\n",
    "{context}\n",
    "\n",
    "Question:\n",
    "{question}\n",
    "\n",
    "Answer concisely, but accurately in legal terms.\n",
    "\"\"\"\n",
    ")\n",
    "\n",
    "# Wrap retriever in RetrievalQA\n",
    "qa_chain = RetrievalQA.from_chain_type(\n",
    "    llm=llm,\n",
    "    retriever=retriever,\n",
    "    chain_type=\"stuff\",  # Use 'stuff' to concatenate all retrieved docs\n",
    "    chain_type_kwargs={\"prompt\": prompt}\n",
    ")\n",
    "\n",
    "# Ask a question\n",
    "question = \"What is the punishment for murder under IPC?\"\n",
    "\n",
    "# Option 1: Using the QA chain (recommended)\n",
    "answer = qa_chain.run(question)\n",
    "print(\"Answer via RetrievalQA:\", answer)\n",
    "\n",
    "# Option 2: Test LLM directly with cleaned context\n",
    "docs = retriever.get_relevant_documents(question)\n",
    "context = \" \".join([doc.page_content.replace(\"\\n\", \" \") for doc in docs])\n",
    "llm_input = f\"Context:\\n{context}\\n\\nQuestion:\\n{question}\\nAnswer concisely, but accurately in legal terms.\"\n",
    "direct_answer = llm(llm_input)\n",
    "print(\"Direct LLM answer:\", direct_answer)\n"
   ]
  },
  {
   "cell_type": "code",
   "execution_count": 28,
   "id": "659f4f08",
   "metadata": {},
   "outputs": [
    {
     "name": "stdout",
     "output_type": "stream",
     "text": [
      "IPC Section 420, in simple words, deals with **cheating and dishonesty to induce someone to deliver property**.\n",
      "\n",
      "It means if someone tricks you into giving them something valuable (money, goods, etc.) by lying or using other dishonest means, they've committed an offense under this section.  The key is the *deception* and the resulting *unlawful gain* for the cheater and *unlawful loss* for the victim.\n"
     ]
    }
   ],
   "source": [
    "from langchain_google_genai import ChatGoogleGenerativeAI\n",
    "import os\n",
    "from dotenv import load_dotenv\n",
    "\n",
    "load_dotenv()\n",
    "api_key = os.environ.get(\"GOOGLE_API_KEY\")\n",
    "\n",
    "llm = ChatGoogleGenerativeAI(\n",
    "    model=\"gemini-1.5-flash-latest\",\n",
    "    api_key=api_key\n",
    ")\n",
    "\n",
    "response = llm.invoke(\"Explain IPC Section 420 in simple words\")\n",
    "print(response.content)\n"
   ]
  },
  {
   "cell_type": "code",
   "execution_count": null,
   "id": "77e33ed0",
   "metadata": {},
   "outputs": [],
   "source": []
  }
 ],
 "metadata": {
  "kernelspec": {
   "display_name": "codemate_env",
   "language": "python",
   "name": "python3"
  },
  "language_info": {
   "codemirror_mode": {
    "name": "ipython",
    "version": 3
   },
   "file_extension": ".py",
   "mimetype": "text/x-python",
   "name": "python",
   "nbconvert_exporter": "python",
   "pygments_lexer": "ipython3",
   "version": "3.10.18"
  }
 },
 "nbformat": 4,
 "nbformat_minor": 5
}
